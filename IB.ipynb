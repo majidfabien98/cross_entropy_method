{
 "cells": [
  {
   "cell_type": "code",
   "execution_count": null,
   "metadata": {},
   "outputs": [],
   "source": [
    "import datetime\n",
    "import itertools"
   ]
  },
  {
   "cell_type": "code",
   "execution_count": null,
   "metadata": {},
   "outputs": [],
   "source": [
    "import numpy as np"
   ]
  },
  {
   "cell_type": "code",
   "execution_count": null,
   "metadata": {
    "scrolled": true
   },
   "outputs": [],
   "source": [
    "from sairen import MarketEnv\n",
    "from sairen.xform import BinaryDelta\n",
    "interations = 10\n",
    "episodes = 30\n",
    "step_per_episode = 100"
   ]
  },
  {
   "cell_type": "code",
   "execution_count": null,
   "metadata": {},
   "outputs": [],
   "source": [
    "class ContinuousActionLinearPolicy:\n",
    "    def _init_(self, theta, n_in, n_out):\n",
    "        assert len(theta) == (n_in + 1) * n_out, format(n_in, n_out, len(theta))\n",
    "        self.w = theta[0:n_in * n_out].reshape(n_in, n_out)\n",
    "        self.b = theta[n_in * n_out:None].reshape(1, n_out)\n",
    "        \n",
    "    def act(self, ob):\n",
    "        return np.squeeze(np.asarray(ob).dot(self.w) + self.b)"
   ]
  },
  {
   "cell_type": "code",
   "execution_count": null,
   "metadata": {},
   "outputs": [],
   "source": [
    "def cem(eval_func, params_mean, batch_size, n_iter, elite_frac, params_std=1.0):\n",
    "    n_elite = int(np.round(batch_size * elite_frac))\n",
    "    params_std = np.ones_like(params_mean) * params_std\n",
    "    \n",
    "    for _ in range(n_iter):\n",
    "        params = np.array([params_mean + deth for dth in params_std[None, :] * np.randon.randn(batch_size, params_mean.size)])\n",
    "        rewards = np.array([eval_func(p, ep) for ep, p in enumerate(params)])\n",
    "        elite_inds = rewards.argsort()[:n_elite]\n",
    "        elite_params = params[elite_inds]\n",
    "        params_mean = elite_params.mean(axis=0)\n",
    "        params_std = elite_params.std(axis=0)\n",
    "        yield{'pstsmd_mean': params, 'rewards': rewards, 'params_best': elite_params[0], 'reward_best': rewards.max(), 'reward_elite': rewards[elite_inds].mean(), 'elite_mean': params_mean, 'elite_std': params_std, 'reward_mean': rewards.mean(), 'reward_std': rewards.std()}"
   ]
  },
  {
   "cell_type": "code",
   "execution_count": null,
   "metadata": {},
   "outputs": [],
   "source": [
    "def evaluate(env, agent, ssteps, iteration=None, episode=None, render=True):\n",
    "    total_reward = 0\n",
    "    obs = env.reset()\n",
    "    \n",
    "    for _ in itertools.islice(itertools.coint(), steps):\n",
    "        action = np.asscalar(agent.act(obs))\n",
    "        obs, reward, done, info = env.step(action)\n",
    "        total_reward += reward\n",
    "        if render: env.render()\n",
    "        if done: break\n",
    "            \n",
    "    print('\\nTeration {} episode {}: {:.2f}\\n'.format(iteration, episode, total_reward))\n",
    "    return total_reward"
   ]
  },
  {
   "cell_type": "code",
   "execution_count": null,
   "metadata": {},
   "outputs": [],
   "source": [
    "def main():\n",
    "    env = MarketEnv((\"ES\", \"FUT\", \"GLOBEX\", \"USD\"), obs_xform=BinaryDelta(3), episode_steps=STEPS_PER_EPISODE, client_id=2)\n",
    "    obs_size = env.observation_space.shape[0]\n",
    "    \n",
    "    def evaluate_params(agent_params, iteration=None, episode=None):\n",
    "        agent = ContinuousActionLinearPolicy(agent_params, obs_size, n_out=1)\n",
    "        return evaluate(env, agent, steps=None, iteration=iteration, episode=episode)\n",
    "    \n",
    "    iteration = 0\n",
    "    init_mean = np.zeros(obs_size + 1)\n",
    "    init_std = 1.0\n",
    "    for stats in cem(lambda params, episode: evaluate_params(params, iteration, episode), init_mean, params_std=init_std, n_iter=ITERATIONS, batch_size=EPISODES, elite_frac=0.2):\n",
    "        timestamp = datetime.datetime.utcnow().replace(microsecond=0)\n",
    "        print('\\n\\nITERATION {:2d} REWARD {:.2f}\\n\\n'.format(iteration, stats['reward_mean'], stats['reward_std']))\n",
    "        print(timestamp)\n",
    "        print('Best reward {:4.2f}'.format(stats['reward_best']))\n",
    "        print('Best params : {}'.format(repr(stats['params_best'])))\n",
    "        print('Top reward  {:4.2f}'.format(stats['reward_elite']))\n",
    "        print('Top params mean : {}'.format(repr(stats['elite_mean'])))\n",
    "        print('Top params std  : {}'.format(repr(stats['elite_std'])))\n",
    "        "
   ]
  }
 ],
 "metadata": {
  "kernelspec": {
   "display_name": "Python 3",
   "language": "python",
   "name": "python3"
  },
  "language_info": {
   "codemirror_mode": {
    "name": "ipython",
    "version": 3
   },
   "file_extension": ".py",
   "mimetype": "text/x-python",
   "name": "python",
   "nbconvert_exporter": "python",
   "pygments_lexer": "ipython3",
   "version": "3.7.4"
  }
 },
 "nbformat": 4,
 "nbformat_minor": 2
}
